{
 "cells": [
  {
   "cell_type": "code",
   "execution_count": 9,
   "metadata": {},
   "outputs": [],
   "source": [
    "import torch\n",
    "import torch.nn.functional as F\n",
    "from torch_geometric.datasets import Planetoid\n",
    "from torch_geometric.nn import GCNConv\n",
    "\n"
   ]
  },
  {
   "cell_type": "code",
   "execution_count": 10,
   "metadata": {},
   "outputs": [
    {
     "name": "stdout",
     "output_type": "stream",
     "text": [
      "Is GPU available? True\n",
      "GPU Name: NVIDIA GeForce RTX 3050 6GB Laptop GPU\n"
     ]
    }
   ],
   "source": [
    "# Check if GPU is available\n",
    "is_available = torch.cuda.is_available()\n",
    "\n",
    "print(f\"Is GPU available? {is_available}\")\n",
    "\n",
    "if is_available:\n",
    "    print(f\"GPU Name: {torch.cuda.get_device_name(0)}\")"
   ]
  },
  {
   "cell_type": "code",
   "execution_count": 11,
   "metadata": {},
   "outputs": [],
   "source": [
    "#In this dataset, each node is a scientific paper and each edge represents a citation from one paper to another.\n",
    "dataset = Planetoid(root='/tmp/Cora', name='Cora')\n",
    "data = dataset[0]"
   ]
  },
  {
   "cell_type": "code",
   "execution_count": 12,
   "metadata": {},
   "outputs": [
    {
     "name": "stdout",
     "output_type": "stream",
     "text": [
      "(Dataset: Cora)\n",
      "Number of nodes: 2708\n",
      "Number of edges: 10556\n",
      "Number of features per node: 1433\n",
      "Number of classes: 7\n"
     ]
    }
   ],
   "source": [
    "print(f'(Dataset: {dataset.name})')\n",
    "print(f'Number of nodes: {data.num_nodes}')\n",
    "print(f'Number of edges: {data.num_edges}')\n",
    "print(f'Number of features per node: {data.num_features}')\n",
    "print(f'Number of classes: {dataset.num_classes}')\n"
   ]
  },
  {
   "cell_type": "code",
   "execution_count": 13,
   "metadata": {},
   "outputs": [],
   "source": [
    "# --- 3. Define the Graph Convolutional Network (GCN) Model ---\n",
    "\n",
    "class GCN(torch.nn.Module):\n",
    "    def __init__(self):\n",
    "        super().__init__()\n",
    "        self.conv1 = GCNConv(dataset.num_node_features, 16)\n",
    "        self.conv2 = GCNConv(16, dataset.num_classes)\n",
    "\n",
    "    def forward(self, data):\n",
    "        x, edge_index = data.x, data.edge_index\n",
    "        x = self.conv1(x, edge_index)\n",
    "        x = F.relu(x)\n",
    "        x = F.dropout(x, training=self.training)\n",
    "        x = self.conv2(x, edge_index)\n",
    "        return F.log_softmax(x, dim=1)\n"
   ]
  },
  {
   "cell_type": "code",
   "execution_count": 14,
   "metadata": {},
   "outputs": [
    {
     "name": "stdout",
     "output_type": "stream",
     "text": [
      "Epoch 000, Loss: 1.9560\n",
      "Epoch 010, Loss: 0.8027\n",
      "Epoch 020, Loss: 0.2608\n",
      "Epoch 030, Loss: 0.1004\n",
      "Epoch 040, Loss: 0.0598\n",
      "Epoch 050, Loss: 0.0446\n",
      "Epoch 060, Loss: 0.0501\n",
      "Epoch 070, Loss: 0.0437\n",
      "Epoch 080, Loss: 0.0348\n",
      "Epoch 090, Loss: 0.0404\n",
      "Epoch 100, Loss: 0.0618\n",
      "Epoch 110, Loss: 0.0351\n",
      "Epoch 120, Loss: 0.0385\n",
      "Epoch 130, Loss: 0.0350\n",
      "Epoch 140, Loss: 0.0300\n",
      "Epoch 150, Loss: 0.0331\n",
      "Epoch 160, Loss: 0.0283\n",
      "Epoch 170, Loss: 0.0593\n",
      "Epoch 180, Loss: 0.0428\n",
      "Epoch 190, Loss: 0.0263\n"
     ]
    }
   ],
   "source": [
    "\n",
    "# --- 4. Train the Model ---\n",
    "\n",
    "device = torch.device('cuda' if torch.cuda.is_available() else 'cpu')\n",
    "model = GCN().to(device)\n",
    "data = data.to(device)\n",
    "optimizer = torch.optim.Adam(model.parameters(), lr=0.01, weight_decay=5e-4)\n",
    "\n",
    "model.train()\n",
    "for epoch in range(200):\n",
    "    optimizer.zero_grad()\n",
    "    out = model(data)\n",
    "\n",
    "    # Corrected loss calculation with boolean mask\n",
    "    loss = F.nll_loss(out[data.train_mask.to(torch.bool)], data.y[data.train_mask.to(torch.bool)])\n",
    "\n",
    "    loss.backward()\n",
    "    optimizer.step()\n",
    "\n",
    "    if epoch % 10 == 0:\n",
    "        print(f'Epoch {epoch:03d}, Loss: {loss:.4f}')\n"
   ]
  },
  {
   "cell_type": "code",
   "execution_count": 15,
   "metadata": {},
   "outputs": [
    {
     "name": "stdout",
     "output_type": "stream",
     "text": [
      "\n",
      "Accuracy on test set: 0.8020\n"
     ]
    }
   ],
   "source": [
    "\n",
    "# --- 5. Evaluate the Model ---\n",
    "\n",
    "model.eval()\n",
    "_, pred = model(data).max(dim=1)\n",
    "\n",
    "# Corrected evaluation with boolean mask\n",
    "test_mask_bool = data.test_mask.to(torch.bool)\n",
    "correct = pred[test_mask_bool].eq(data.y[test_mask_bool]).sum().item()\n",
    "acc = correct / test_mask_bool.sum().item()\n",
    "print(f'\\nAccuracy on test set: {acc:.4f}')\n"
   ]
  },
  {
   "cell_type": "code",
   "execution_count": 16,
   "metadata": {},
   "outputs": [
    {
     "name": "stdout",
     "output_type": "stream",
     "text": [
      "\n",
      "Model saved to gcn_cora.pth\n"
     ]
    }
   ],
   "source": [
    "\n",
    "# --- 6. Save the Trained Model ---\n",
    "\n",
    "torch.save(model.state_dict(), 'gcn_cora.pth')\n",
    "print('\\nModel saved to gcn_cora.pth')"
   ]
  }
 ],
 "metadata": {
  "kernelspec": {
   "display_name": "gnn_project",
   "language": "python",
   "name": "python3"
  },
  "language_info": {
   "codemirror_mode": {
    "name": "ipython",
    "version": 3
   },
   "file_extension": ".py",
   "mimetype": "text/x-python",
   "name": "python",
   "nbconvert_exporter": "python",
   "pygments_lexer": "ipython3",
   "version": "3.10.18"
  }
 },
 "nbformat": 4,
 "nbformat_minor": 2
}
